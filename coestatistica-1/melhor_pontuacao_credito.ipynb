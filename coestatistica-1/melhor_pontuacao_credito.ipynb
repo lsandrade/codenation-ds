{
  "nbformat": 4,
  "nbformat_minor": 0,
  "metadata": {
    "colab": {
      "name": "melhor_pontuacao_credito.ipynb",
      "provenance": [],
      "collapsed_sections": []
    },
    "kernelspec": {
      "name": "python3",
      "display_name": "Python 3"
    }
  },
  "cells": [
    {
      "cell_type": "code",
      "metadata": {
        "id": "otYA6qZkqjjz",
        "colab_type": "code",
        "colab": {}
      },
      "source": [
        "import pandas as pd\n",
        "import json"
      ],
      "execution_count": 0,
      "outputs": []
    },
    {
      "cell_type": "code",
      "metadata": {
        "id": "hN4VjqnHqzO1",
        "colab_type": "code",
        "colab": {}
      },
      "source": [
        "df = pd.read_csv('desafio1.csv', delimiter=',')"
      ],
      "execution_count": 0,
      "outputs": []
    },
    {
      "cell_type": "markdown",
      "metadata": {
        "id": "uqgJJZNrq7Zt",
        "colab_type": "text"
      },
      "source": [
        "## Analise exploratória"
      ]
    },
    {
      "cell_type": "code",
      "metadata": {
        "id": "XONI_eCzrBwu",
        "colab_type": "code",
        "colab": {
          "base_uri": "https://localhost:8080/",
          "height": 34
        },
        "outputId": "d1815977-ccf4-4ce4-e507-c34d01f7ac38"
      },
      "source": [
        "df.shape"
      ],
      "execution_count": 3,
      "outputs": [
        {
          "output_type": "execute_result",
          "data": {
            "text/plain": [
              "(7000, 12)"
            ]
          },
          "metadata": {
            "tags": []
          },
          "execution_count": 3
        }
      ]
    },
    {
      "cell_type": "code",
      "metadata": {
        "id": "KRc7mnLCrHP8",
        "colab_type": "code",
        "colab": {
          "base_uri": "https://localhost:8080/",
          "height": 224
        },
        "outputId": "1c60bbfa-d43b-4dce-ead3-c2e172d37bb9"
      },
      "source": [
        "df.head()"
      ],
      "execution_count": 4,
      "outputs": [
        {
          "output_type": "execute_result",
          "data": {
            "text/html": [
              "<div>\n",
              "<style scoped>\n",
              "    .dataframe tbody tr th:only-of-type {\n",
              "        vertical-align: middle;\n",
              "    }\n",
              "\n",
              "    .dataframe tbody tr th {\n",
              "        vertical-align: top;\n",
              "    }\n",
              "\n",
              "    .dataframe thead th {\n",
              "        text-align: right;\n",
              "    }\n",
              "</style>\n",
              "<table border=\"1\" class=\"dataframe\">\n",
              "  <thead>\n",
              "    <tr style=\"text-align: right;\">\n",
              "      <th></th>\n",
              "      <th>RowNumber</th>\n",
              "      <th>id</th>\n",
              "      <th>sobrenome</th>\n",
              "      <th>pontuacao_credito</th>\n",
              "      <th>estado_residencia</th>\n",
              "      <th>genero</th>\n",
              "      <th>idade</th>\n",
              "      <th>nivel_estabilidade</th>\n",
              "      <th>saldo_conta</th>\n",
              "      <th>numero_produtos</th>\n",
              "      <th>possui_cartao_de_credito</th>\n",
              "      <th>membro_ativo</th>\n",
              "    </tr>\n",
              "  </thead>\n",
              "  <tbody>\n",
              "    <tr>\n",
              "      <th>0</th>\n",
              "      <td>1</td>\n",
              "      <td>e7f44fcbd380d4cef7e6c232cc7e37895c3fd197</td>\n",
              "      <td>6d6e0aa1b9b413e442e2fb68df14b4fc3f91de50</td>\n",
              "      <td>619</td>\n",
              "      <td>SC</td>\n",
              "      <td>F</td>\n",
              "      <td>42</td>\n",
              "      <td>2</td>\n",
              "      <td>0.00</td>\n",
              "      <td>1</td>\n",
              "      <td>1</td>\n",
              "      <td>1</td>\n",
              "    </tr>\n",
              "    <tr>\n",
              "      <th>1</th>\n",
              "      <td>2</td>\n",
              "      <td>28dcb083ad90512da16b9430085c2cddb8ca5e12</td>\n",
              "      <td>48e1ad846796fa314f1b4a6702b83343eb5482c5</td>\n",
              "      <td>608</td>\n",
              "      <td>RS</td>\n",
              "      <td>F</td>\n",
              "      <td>41</td>\n",
              "      <td>1</td>\n",
              "      <td>83807.86</td>\n",
              "      <td>1</td>\n",
              "      <td>0</td>\n",
              "      <td>1</td>\n",
              "    </tr>\n",
              "    <tr>\n",
              "      <th>2</th>\n",
              "      <td>3</td>\n",
              "      <td>774bc378f787438c9c7594e536787d07a097a54b</td>\n",
              "      <td>f2b29d5d934de615812b697132e767dea0f1e9e2</td>\n",
              "      <td>502</td>\n",
              "      <td>SC</td>\n",
              "      <td>F</td>\n",
              "      <td>42</td>\n",
              "      <td>8</td>\n",
              "      <td>159660.80</td>\n",
              "      <td>3</td>\n",
              "      <td>1</td>\n",
              "      <td>0</td>\n",
              "    </tr>\n",
              "    <tr>\n",
              "      <th>3</th>\n",
              "      <td>4</td>\n",
              "      <td>043a71326f7096de155e7f0c559dc62b5e4b7239</td>\n",
              "      <td>85d5c9da7cddd8109ad32a6c348fe2bb10bf99f2</td>\n",
              "      <td>699</td>\n",
              "      <td>SC</td>\n",
              "      <td>F</td>\n",
              "      <td>39</td>\n",
              "      <td>1</td>\n",
              "      <td>0.00</td>\n",
              "      <td>2</td>\n",
              "      <td>0</td>\n",
              "      <td>0</td>\n",
              "    </tr>\n",
              "    <tr>\n",
              "      <th>4</th>\n",
              "      <td>5</td>\n",
              "      <td>37b3bb8ca243955fb3605ec7e1c2a4607cdb3b22</td>\n",
              "      <td>ddc89c837a6933639de75f28171057060bd322df</td>\n",
              "      <td>850</td>\n",
              "      <td>RS</td>\n",
              "      <td>F</td>\n",
              "      <td>43</td>\n",
              "      <td>2</td>\n",
              "      <td>125510.82</td>\n",
              "      <td>1</td>\n",
              "      <td>1</td>\n",
              "      <td>1</td>\n",
              "    </tr>\n",
              "  </tbody>\n",
              "</table>\n",
              "</div>"
            ],
            "text/plain": [
              "   RowNumber  ... membro_ativo\n",
              "0          1  ...            1\n",
              "1          2  ...            1\n",
              "2          3  ...            0\n",
              "3          4  ...            0\n",
              "4          5  ...            1\n",
              "\n",
              "[5 rows x 12 columns]"
            ]
          },
          "metadata": {
            "tags": []
          },
          "execution_count": 4
        }
      ]
    },
    {
      "cell_type": "code",
      "metadata": {
        "id": "1kqpkuq0rLDn",
        "colab_type": "code",
        "colab": {
          "base_uri": "https://localhost:8080/",
          "height": 224
        },
        "outputId": "3e696e2f-f81c-4308-edb5-b36113faaaad"
      },
      "source": [
        "df.tail()"
      ],
      "execution_count": 5,
      "outputs": [
        {
          "output_type": "execute_result",
          "data": {
            "text/html": [
              "<div>\n",
              "<style scoped>\n",
              "    .dataframe tbody tr th:only-of-type {\n",
              "        vertical-align: middle;\n",
              "    }\n",
              "\n",
              "    .dataframe tbody tr th {\n",
              "        vertical-align: top;\n",
              "    }\n",
              "\n",
              "    .dataframe thead th {\n",
              "        text-align: right;\n",
              "    }\n",
              "</style>\n",
              "<table border=\"1\" class=\"dataframe\">\n",
              "  <thead>\n",
              "    <tr style=\"text-align: right;\">\n",
              "      <th></th>\n",
              "      <th>RowNumber</th>\n",
              "      <th>id</th>\n",
              "      <th>sobrenome</th>\n",
              "      <th>pontuacao_credito</th>\n",
              "      <th>estado_residencia</th>\n",
              "      <th>genero</th>\n",
              "      <th>idade</th>\n",
              "      <th>nivel_estabilidade</th>\n",
              "      <th>saldo_conta</th>\n",
              "      <th>numero_produtos</th>\n",
              "      <th>possui_cartao_de_credito</th>\n",
              "      <th>membro_ativo</th>\n",
              "    </tr>\n",
              "  </thead>\n",
              "  <tbody>\n",
              "    <tr>\n",
              "      <th>6995</th>\n",
              "      <td>6996</td>\n",
              "      <td>3e607c788c09d6e1f99cc50575e471fee41a322a</td>\n",
              "      <td>ef547badb8b0801d06a93155cc052341c749d1c0</td>\n",
              "      <td>633</td>\n",
              "      <td>SC</td>\n",
              "      <td>F</td>\n",
              "      <td>32</td>\n",
              "      <td>1</td>\n",
              "      <td>104001.38</td>\n",
              "      <td>1</td>\n",
              "      <td>0</td>\n",
              "      <td>1</td>\n",
              "    </tr>\n",
              "    <tr>\n",
              "      <th>6996</th>\n",
              "      <td>6997</td>\n",
              "      <td>2afdb40334e1bef3451f3db02b12c255c7a9ff57</td>\n",
              "      <td>e3eb2eea41a60b08392da20a49543d05ac484255</td>\n",
              "      <td>623</td>\n",
              "      <td>RS</td>\n",
              "      <td>F</td>\n",
              "      <td>50</td>\n",
              "      <td>2</td>\n",
              "      <td>87116.71</td>\n",
              "      <td>1</td>\n",
              "      <td>1</td>\n",
              "      <td>1</td>\n",
              "    </tr>\n",
              "    <tr>\n",
              "      <th>6997</th>\n",
              "      <td>6998</td>\n",
              "      <td>6a0589e36c12f95a8d3678b460519ed654fe0a3e</td>\n",
              "      <td>e65e12a7eb4e0b15e6d3afb127ce38c0a5303188</td>\n",
              "      <td>611</td>\n",
              "      <td>SC</td>\n",
              "      <td>M</td>\n",
              "      <td>68</td>\n",
              "      <td>5</td>\n",
              "      <td>82547.11</td>\n",
              "      <td>2</td>\n",
              "      <td>1</td>\n",
              "      <td>1</td>\n",
              "    </tr>\n",
              "    <tr>\n",
              "      <th>6998</th>\n",
              "      <td>6999</td>\n",
              "      <td>c042de909a1fb157765c84c3278d8e6500807367</td>\n",
              "      <td>a52bbf77611eab47a6eff8641a1a9bd01006acbe</td>\n",
              "      <td>666</td>\n",
              "      <td>RS</td>\n",
              "      <td>F</td>\n",
              "      <td>47</td>\n",
              "      <td>5</td>\n",
              "      <td>0.00</td>\n",
              "      <td>1</td>\n",
              "      <td>0</td>\n",
              "      <td>0</td>\n",
              "    </tr>\n",
              "    <tr>\n",
              "      <th>6999</th>\n",
              "      <td>7000</td>\n",
              "      <td>cdce83890ea1d7b64b2caaaea76f499cb5dfe684</td>\n",
              "      <td>2265b3657cc5e97382dc46819e3937c363fe165e</td>\n",
              "      <td>521</td>\n",
              "      <td>SC</td>\n",
              "      <td>M</td>\n",
              "      <td>27</td>\n",
              "      <td>4</td>\n",
              "      <td>121325.84</td>\n",
              "      <td>1</td>\n",
              "      <td>1</td>\n",
              "      <td>1</td>\n",
              "    </tr>\n",
              "  </tbody>\n",
              "</table>\n",
              "</div>"
            ],
            "text/plain": [
              "      RowNumber  ... membro_ativo\n",
              "6995       6996  ...            1\n",
              "6996       6997  ...            1\n",
              "6997       6998  ...            1\n",
              "6998       6999  ...            0\n",
              "6999       7000  ...            1\n",
              "\n",
              "[5 rows x 12 columns]"
            ]
          },
          "metadata": {
            "tags": []
          },
          "execution_count": 5
        }
      ]
    },
    {
      "cell_type": "code",
      "metadata": {
        "id": "9VOEi-uXrNCh",
        "colab_type": "code",
        "colab": {
          "base_uri": "https://localhost:8080/",
          "height": 340
        },
        "outputId": "8e849157-6c82-4a81-f1e5-f0a816439acf"
      },
      "source": [
        "df.info()"
      ],
      "execution_count": 6,
      "outputs": [
        {
          "output_type": "stream",
          "text": [
            "<class 'pandas.core.frame.DataFrame'>\n",
            "RangeIndex: 7000 entries, 0 to 6999\n",
            "Data columns (total 12 columns):\n",
            " #   Column                    Non-Null Count  Dtype  \n",
            "---  ------                    --------------  -----  \n",
            " 0   RowNumber                 7000 non-null   int64  \n",
            " 1   id                        7000 non-null   object \n",
            " 2   sobrenome                 7000 non-null   object \n",
            " 3   pontuacao_credito         7000 non-null   int64  \n",
            " 4   estado_residencia         7000 non-null   object \n",
            " 5   genero                    7000 non-null   object \n",
            " 6   idade                     7000 non-null   int64  \n",
            " 7   nivel_estabilidade        7000 non-null   int64  \n",
            " 8   saldo_conta               7000 non-null   float64\n",
            " 9   numero_produtos           7000 non-null   int64  \n",
            " 10  possui_cartao_de_credito  7000 non-null   int64  \n",
            " 11  membro_ativo              7000 non-null   int64  \n",
            "dtypes: float64(1), int64(7), object(4)\n",
            "memory usage: 656.4+ KB\n"
          ],
          "name": "stdout"
        }
      ]
    },
    {
      "cell_type": "code",
      "metadata": {
        "id": "WQqpp1N8rQEs",
        "colab_type": "code",
        "colab": {
          "base_uri": "https://localhost:8080/",
          "height": 34
        },
        "outputId": "c215f4a0-ccc6-4bc8-ae1d-6a011e3ddac7"
      },
      "source": [
        "df.estado_residencia.unique()"
      ],
      "execution_count": 7,
      "outputs": [
        {
          "output_type": "execute_result",
          "data": {
            "text/plain": [
              "array(['SC', 'RS', 'PR'], dtype=object)"
            ]
          },
          "metadata": {
            "tags": []
          },
          "execution_count": 7
        }
      ]
    },
    {
      "cell_type": "markdown",
      "metadata": {
        "id": "beCmNem9rVPs",
        "colab_type": "text"
      },
      "source": [
        "## Agrupa variáveis"
      ]
    },
    {
      "cell_type": "code",
      "metadata": {
        "id": "VLBqYXerraii",
        "colab_type": "code",
        "colab": {
          "base_uri": "https://localhost:8080/",
          "height": 85
        },
        "outputId": "dd815a22-9093-4ff9-a4ae-88cdceb24794"
      },
      "source": [
        "# media por estado\n",
        "mean = df.groupby('estado_residencia').pontuacao_credito.apply(pd.DataFrame).mean()\n",
        "mean"
      ],
      "execution_count": 9,
      "outputs": [
        {
          "output_type": "execute_result",
          "data": {
            "text/plain": [
              "PR    648.961294\n",
              "RS    651.105143\n",
              "SC    649.537653\n",
              "dtype: float64"
            ]
          },
          "metadata": {
            "tags": []
          },
          "execution_count": 9
        }
      ]
    },
    {
      "cell_type": "code",
      "metadata": {
        "id": "hqgyQNSxrixA",
        "colab_type": "code",
        "colab": {
          "base_uri": "https://localhost:8080/",
          "height": 85
        },
        "outputId": "4b86ce39-2498-4200-ffca-b5a454d32640"
      },
      "source": [
        "# mediana por estado\n",
        "median = df.groupby('estado_residencia').pontuacao_credito.apply(pd.DataFrame).median()\n",
        "median"
      ],
      "execution_count": 10,
      "outputs": [
        {
          "output_type": "execute_result",
          "data": {
            "text/plain": [
              "PR    650.0\n",
              "RS    650.0\n",
              "SC    653.0\n",
              "dtype: float64"
            ]
          },
          "metadata": {
            "tags": []
          },
          "execution_count": 10
        }
      ]
    },
    {
      "cell_type": "code",
      "metadata": {
        "id": "90mL2cDrrnQJ",
        "colab_type": "code",
        "colab": {
          "base_uri": "https://localhost:8080/",
          "height": 85
        },
        "outputId": "cb646f69-e2ea-434c-d54f-2dad7a8154c0"
      },
      "source": [
        "# moda por estado\n",
        "mode = df.groupby('estado_residencia').pontuacao_credito.apply(pd.DataFrame).mode().T[0]\n",
        "mode"
      ],
      "execution_count": 11,
      "outputs": [
        {
          "output_type": "execute_result",
          "data": {
            "text/plain": [
              "PR    850.0\n",
              "RS    850.0\n",
              "SC    850.0\n",
              "Name: 0, dtype: float64"
            ]
          },
          "metadata": {
            "tags": []
          },
          "execution_count": 11
        }
      ]
    },
    {
      "cell_type": "code",
      "metadata": {
        "id": "ceM-hZzDrtgU",
        "colab_type": "code",
        "colab": {
          "base_uri": "https://localhost:8080/",
          "height": 85
        },
        "outputId": "fd96e0d2-a1a5-4899-f1e5-d66d334bf536"
      },
      "source": [
        "# desvio padrao por estado\n",
        "std = df.groupby('estado_residencia').pontuacao_credito.apply(pd.DataFrame).std()\n",
        "std"
      ],
      "execution_count": 12,
      "outputs": [
        {
          "output_type": "execute_result",
          "data": {
            "text/plain": [
              "PR    98.607186\n",
              "RS    95.136598\n",
              "SC    97.233493\n",
              "dtype: float64"
            ]
          },
          "metadata": {
            "tags": []
          },
          "execution_count": 12
        }
      ]
    },
    {
      "cell_type": "markdown",
      "metadata": {
        "id": "Dk3Sg214ryu8",
        "colab_type": "text"
      },
      "source": [
        "## Constrói resultado"
      ]
    },
    {
      "cell_type": "code",
      "metadata": {
        "id": "kJ_5R_1_r13m",
        "colab_type": "code",
        "colab": {
          "base_uri": "https://localhost:8080/",
          "height": 173
        },
        "outputId": "7965c9dd-d9fb-4418-9bb6-b99881c89936"
      },
      "source": [
        "result = pd.DataFrame([mode, median, mean, std], index=['moda', 'mediana', 'media', 'desvio_padrao'])\n",
        "result"
      ],
      "execution_count": 15,
      "outputs": [
        {
          "output_type": "execute_result",
          "data": {
            "text/html": [
              "<div>\n",
              "<style scoped>\n",
              "    .dataframe tbody tr th:only-of-type {\n",
              "        vertical-align: middle;\n",
              "    }\n",
              "\n",
              "    .dataframe tbody tr th {\n",
              "        vertical-align: top;\n",
              "    }\n",
              "\n",
              "    .dataframe thead th {\n",
              "        text-align: right;\n",
              "    }\n",
              "</style>\n",
              "<table border=\"1\" class=\"dataframe\">\n",
              "  <thead>\n",
              "    <tr style=\"text-align: right;\">\n",
              "      <th></th>\n",
              "      <th>PR</th>\n",
              "      <th>RS</th>\n",
              "      <th>SC</th>\n",
              "    </tr>\n",
              "  </thead>\n",
              "  <tbody>\n",
              "    <tr>\n",
              "      <th>moda</th>\n",
              "      <td>850.000000</td>\n",
              "      <td>850.000000</td>\n",
              "      <td>850.000000</td>\n",
              "    </tr>\n",
              "    <tr>\n",
              "      <th>mediana</th>\n",
              "      <td>650.000000</td>\n",
              "      <td>650.000000</td>\n",
              "      <td>653.000000</td>\n",
              "    </tr>\n",
              "    <tr>\n",
              "      <th>media</th>\n",
              "      <td>648.961294</td>\n",
              "      <td>651.105143</td>\n",
              "      <td>649.537653</td>\n",
              "    </tr>\n",
              "    <tr>\n",
              "      <th>desvio_padrao</th>\n",
              "      <td>98.607186</td>\n",
              "      <td>95.136598</td>\n",
              "      <td>97.233493</td>\n",
              "    </tr>\n",
              "  </tbody>\n",
              "</table>\n",
              "</div>"
            ],
            "text/plain": [
              "                       PR          RS          SC\n",
              "moda           850.000000  850.000000  850.000000\n",
              "mediana        650.000000  650.000000  653.000000\n",
              "media          648.961294  651.105143  649.537653\n",
              "desvio_padrao   98.607186   95.136598   97.233493"
            ]
          },
          "metadata": {
            "tags": []
          },
          "execution_count": 15
        }
      ]
    },
    {
      "cell_type": "code",
      "metadata": {
        "id": "7NQ76jHisHep",
        "colab_type": "code",
        "colab": {
          "base_uri": "https://localhost:8080/",
          "height": 221
        },
        "outputId": "31fd5d2d-d1fd-49b6-c382-36b07c1143c1"
      },
      "source": [
        "result_to_json = result.to_dict()\n",
        "result_to_json"
      ],
      "execution_count": 16,
      "outputs": [
        {
          "output_type": "execute_result",
          "data": {
            "text/plain": [
              "{'PR': {'desvio_padrao': 98.60718591309772,\n",
              "  'media': 648.9612940496822,\n",
              "  'mediana': 650.0,\n",
              "  'moda': 850.0},\n",
              " 'RS': {'desvio_padrao': 95.1365984138357,\n",
              "  'media': 651.1051428571428,\n",
              "  'mediana': 650.0,\n",
              "  'moda': 850.0},\n",
              " 'SC': {'desvio_padrao': 97.23349279343306,\n",
              "  'media': 649.5376527422563,\n",
              "  'mediana': 653.0,\n",
              "  'moda': 850.0}}"
            ]
          },
          "metadata": {
            "tags": []
          },
          "execution_count": 16
        }
      ]
    },
    {
      "cell_type": "code",
      "metadata": {
        "id": "FXHLNoQ-sM4Q",
        "colab_type": "code",
        "colab": {}
      },
      "source": [
        "# Escreve resultado num arquivo\n",
        "\n",
        "with open('submission.json', 'w') as outfile:\n",
        "    json.dump(result_to_json, outfile)"
      ],
      "execution_count": 0,
      "outputs": []
    }
  ]
}