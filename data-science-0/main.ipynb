{
 "cells": [
  {
   "cell_type": "markdown",
   "metadata": {},
   "source": [
    "# Desafio 1\n",
    "\n",
    "Para esse desafio, vamos trabalhar com o data set [Black Friday](https://www.kaggle.com/mehdidag/black-friday), que reúne dados sobre transações de compras em uma loja de varejo.\n",
    "\n",
    "Vamos utilizá-lo para praticar a exploração de data sets utilizando pandas. Você pode fazer toda análise neste mesmo notebook, mas as resposta devem estar nos locais indicados.\n",
    "\n",
    "> Obs.: Por favor, não modifique o nome das funções de resposta."
   ]
  },
  {
   "cell_type": "markdown",
   "metadata": {},
   "source": [
    "## _Set up_ da análise"
   ]
  },
  {
   "cell_type": "code",
   "execution_count": 1,
   "metadata": {
    "pycharm": {
     "is_executing": false
    }
   },
   "outputs": [],
   "source": [
    "import pandas as pd\n",
    "import numpy as np"
   ]
  },
  {
   "cell_type": "code",
   "execution_count": 2,
   "metadata": {
    "pycharm": {
     "is_executing": false
    }
   },
   "outputs": [],
   "source": [
    "black_friday = pd.read_csv(\"black_friday.csv\")"
   ]
  },
  {
   "cell_type": "markdown",
   "metadata": {},
   "source": [
    "## Inicie sua análise a partir daqui"
   ]
  },
  {
   "cell_type": "code",
   "execution_count": 3,
   "metadata": {
    "pycharm": {
     "is_executing": false
    }
   },
   "outputs": [
    {
     "data": {
      "text/plain": "   User_ID Product_ID Gender   Age  Occupation City_Category  \\\n0  1000001  P00069042      F  0-17          10             A   \n1  1000001  P00248942      F  0-17          10             A   \n2  1000001  P00087842      F  0-17          10             A   \n3  1000001  P00085442      F  0-17          10             A   \n4  1000002  P00285442      M   55+          16             C   \n\n  Stay_In_Current_City_Years  Marital_Status  Product_Category_1  \\\n0                          2               0                   3   \n1                          2               0                   1   \n2                          2               0                  12   \n3                          2               0                  12   \n4                         4+               0                   8   \n\n   Product_Category_2  Product_Category_3  Purchase  \n0                 NaN                 NaN      8370  \n1                 6.0                14.0     15200  \n2                 NaN                 NaN      1422  \n3                14.0                 NaN      1057  \n4                 NaN                 NaN      7969  ",
      "text/html": "<div>\n<style scoped>\n    .dataframe tbody tr th:only-of-type {\n        vertical-align: middle;\n    }\n\n    .dataframe tbody tr th {\n        vertical-align: top;\n    }\n\n    .dataframe thead th {\n        text-align: right;\n    }\n</style>\n<table border=\"1\" class=\"dataframe\">\n  <thead>\n    <tr style=\"text-align: right;\">\n      <th></th>\n      <th>User_ID</th>\n      <th>Product_ID</th>\n      <th>Gender</th>\n      <th>Age</th>\n      <th>Occupation</th>\n      <th>City_Category</th>\n      <th>Stay_In_Current_City_Years</th>\n      <th>Marital_Status</th>\n      <th>Product_Category_1</th>\n      <th>Product_Category_2</th>\n      <th>Product_Category_3</th>\n      <th>Purchase</th>\n    </tr>\n  </thead>\n  <tbody>\n    <tr>\n      <th>0</th>\n      <td>1000001</td>\n      <td>P00069042</td>\n      <td>F</td>\n      <td>0-17</td>\n      <td>10</td>\n      <td>A</td>\n      <td>2</td>\n      <td>0</td>\n      <td>3</td>\n      <td>NaN</td>\n      <td>NaN</td>\n      <td>8370</td>\n    </tr>\n    <tr>\n      <th>1</th>\n      <td>1000001</td>\n      <td>P00248942</td>\n      <td>F</td>\n      <td>0-17</td>\n      <td>10</td>\n      <td>A</td>\n      <td>2</td>\n      <td>0</td>\n      <td>1</td>\n      <td>6.0</td>\n      <td>14.0</td>\n      <td>15200</td>\n    </tr>\n    <tr>\n      <th>2</th>\n      <td>1000001</td>\n      <td>P00087842</td>\n      <td>F</td>\n      <td>0-17</td>\n      <td>10</td>\n      <td>A</td>\n      <td>2</td>\n      <td>0</td>\n      <td>12</td>\n      <td>NaN</td>\n      <td>NaN</td>\n      <td>1422</td>\n    </tr>\n    <tr>\n      <th>3</th>\n      <td>1000001</td>\n      <td>P00085442</td>\n      <td>F</td>\n      <td>0-17</td>\n      <td>10</td>\n      <td>A</td>\n      <td>2</td>\n      <td>0</td>\n      <td>12</td>\n      <td>14.0</td>\n      <td>NaN</td>\n      <td>1057</td>\n    </tr>\n    <tr>\n      <th>4</th>\n      <td>1000002</td>\n      <td>P00285442</td>\n      <td>M</td>\n      <td>55+</td>\n      <td>16</td>\n      <td>C</td>\n      <td>4+</td>\n      <td>0</td>\n      <td>8</td>\n      <td>NaN</td>\n      <td>NaN</td>\n      <td>7969</td>\n    </tr>\n  </tbody>\n</table>\n</div>"
     },
     "metadata": {},
     "output_type": "execute_result",
     "execution_count": 3
    }
   ],
   "source": [
    "black_friday.head()"
   ]
  },
  {
   "cell_type": "markdown",
   "metadata": {},
   "source": []
  },
  {
   "cell_type": "code",
   "execution_count": 6,
   "outputs": [
    {
     "data": {
      "text/plain": "            User_ID    Occupation  Marital_Status  Product_Category_1  \\\ncount  5.375770e+05  537577.00000   537577.000000       537577.000000   \nmean   1.002992e+06       8.08271        0.408797            5.295546   \nstd    1.714393e+03       6.52412        0.491612            3.750701   \nmin    1.000001e+06       0.00000        0.000000            1.000000   \n25%    1.001495e+06       2.00000        0.000000            1.000000   \n50%    1.003031e+06       7.00000        0.000000            5.000000   \n75%    1.004417e+06      14.00000        1.000000            8.000000   \nmax    1.006040e+06      20.00000        1.000000           18.000000   \n\n       Product_Category_2  Product_Category_3       Purchase  \ncount       370591.000000       164278.000000  537577.000000  \nmean             9.842144           12.669840    9333.859853  \nstd              5.087259            4.124341    4981.022133  \nmin              2.000000            3.000000     185.000000  \n25%              5.000000            9.000000    5866.000000  \n50%              9.000000           14.000000    8062.000000  \n75%             15.000000           16.000000   12073.000000  \nmax             18.000000           18.000000   23961.000000  ",
      "text/html": "<div>\n<style scoped>\n    .dataframe tbody tr th:only-of-type {\n        vertical-align: middle;\n    }\n\n    .dataframe tbody tr th {\n        vertical-align: top;\n    }\n\n    .dataframe thead th {\n        text-align: right;\n    }\n</style>\n<table border=\"1\" class=\"dataframe\">\n  <thead>\n    <tr style=\"text-align: right;\">\n      <th></th>\n      <th>User_ID</th>\n      <th>Occupation</th>\n      <th>Marital_Status</th>\n      <th>Product_Category_1</th>\n      <th>Product_Category_2</th>\n      <th>Product_Category_3</th>\n      <th>Purchase</th>\n    </tr>\n  </thead>\n  <tbody>\n    <tr>\n      <th>count</th>\n      <td>5.375770e+05</td>\n      <td>537577.00000</td>\n      <td>537577.000000</td>\n      <td>537577.000000</td>\n      <td>370591.000000</td>\n      <td>164278.000000</td>\n      <td>537577.000000</td>\n    </tr>\n    <tr>\n      <th>mean</th>\n      <td>1.002992e+06</td>\n      <td>8.08271</td>\n      <td>0.408797</td>\n      <td>5.295546</td>\n      <td>9.842144</td>\n      <td>12.669840</td>\n      <td>9333.859853</td>\n    </tr>\n    <tr>\n      <th>std</th>\n      <td>1.714393e+03</td>\n      <td>6.52412</td>\n      <td>0.491612</td>\n      <td>3.750701</td>\n      <td>5.087259</td>\n      <td>4.124341</td>\n      <td>4981.022133</td>\n    </tr>\n    <tr>\n      <th>min</th>\n      <td>1.000001e+06</td>\n      <td>0.00000</td>\n      <td>0.000000</td>\n      <td>1.000000</td>\n      <td>2.000000</td>\n      <td>3.000000</td>\n      <td>185.000000</td>\n    </tr>\n    <tr>\n      <th>25%</th>\n      <td>1.001495e+06</td>\n      <td>2.00000</td>\n      <td>0.000000</td>\n      <td>1.000000</td>\n      <td>5.000000</td>\n      <td>9.000000</td>\n      <td>5866.000000</td>\n    </tr>\n    <tr>\n      <th>50%</th>\n      <td>1.003031e+06</td>\n      <td>7.00000</td>\n      <td>0.000000</td>\n      <td>5.000000</td>\n      <td>9.000000</td>\n      <td>14.000000</td>\n      <td>8062.000000</td>\n    </tr>\n    <tr>\n      <th>75%</th>\n      <td>1.004417e+06</td>\n      <td>14.00000</td>\n      <td>1.000000</td>\n      <td>8.000000</td>\n      <td>15.000000</td>\n      <td>16.000000</td>\n      <td>12073.000000</td>\n    </tr>\n    <tr>\n      <th>max</th>\n      <td>1.006040e+06</td>\n      <td>20.00000</td>\n      <td>1.000000</td>\n      <td>18.000000</td>\n      <td>18.000000</td>\n      <td>18.000000</td>\n      <td>23961.000000</td>\n    </tr>\n  </tbody>\n</table>\n</div>"
     },
     "metadata": {},
     "output_type": "execute_result",
     "execution_count": 6
    }
   ],
   "source": [
    "black_friday.describe()"
   ],
   "metadata": {
    "collapsed": false,
    "pycharm": {
     "name": "#%%\n",
     "is_executing": false
    }
   }
  },
  {
   "cell_type": "markdown",
   "source": [],
   "metadata": {
    "collapsed": false
   }
  },
  {
   "cell_type": "code",
   "execution_count": 7,
   "outputs": [
    {
     "name": "stdout",
     "text": [
      "<class 'pandas.core.frame.DataFrame'>\n",
      "RangeIndex: 537577 entries, 0 to 537576\n",
      "Data columns (total 12 columns):\n",
      "User_ID                       537577 non-null int64\n",
      "Product_ID                    537577 non-null object\n",
      "Gender                        537577 non-null object\n",
      "Age                           537577 non-null object\n",
      "Occupation                    537577 non-null int64\n",
      "City_Category                 537577 non-null object\n",
      "Stay_In_Current_City_Years    537577 non-null object\n",
      "Marital_Status                537577 non-null int64\n",
      "Product_Category_1            537577 non-null int64\n",
      "Product_Category_2            370591 non-null float64\n",
      "Product_Category_3            164278 non-null float64\n",
      "Purchase                      537577 non-null int64\n",
      "dtypes: float64(2), int64(5), object(5)\n",
      "memory usage: 49.2+ MB\n"
     ],
     "output_type": "stream"
    }
   ],
   "source": [
    "black_friday.info()"
   ],
   "metadata": {
    "collapsed": false,
    "pycharm": {
     "name": "#%%\n",
     "is_executing": false
    }
   }
  },
  {
   "cell_type": "markdown",
   "source": [
    "\n",
    "## Questão 1\n",
    "\n",
    "Quantas observações e quantas colunas há no dataset? Responda no formato de uma tuple `(n_observacoes, n_colunas)`."
   ],
   "metadata": {
    "collapsed": false
   }
  },
  {
   "cell_type": "code",
   "execution_count": 36,
   "metadata": {
    "pycharm": {
     "is_executing": false
    }
   },
   "outputs": [
    {
     "data": {
      "text/plain": "(537577, 12)"
     },
     "metadata": {},
     "output_type": "execute_result",
     "execution_count": 36
    }
   ],
   "source": [
    "def q1():\n",
    "    return black_friday.shape\n",
    "\n",
    "q1()"
   ]
  },
  {
   "cell_type": "markdown",
   "metadata": {},
   "source": [
    "## Questão 2\n",
    "\n",
    "Há quantas mulheres com idade entre 26 e 35 anos no dataset? Responda como um único escalar."
   ]
  },
  {
   "cell_type": "code",
   "execution_count": 25,
   "metadata": {
    "pycharm": {
     "is_executing": false
    }
   },
   "outputs": [
    {
     "data": {
      "text/plain": "49348"
     },
     "metadata": {},
     "output_type": "execute_result",
     "execution_count": 25
    }
   ],
   "source": [
    "def q2():\n",
    "    condicoes = (black_friday['Gender'] == 'F')\\\n",
    "                & (black_friday['Age'] == '26-35')\n",
    "    \n",
    "    return len(black_friday[condicoes])\n",
    "\n",
    "q2()"
   ]
  },
  {
   "cell_type": "markdown",
   "metadata": {},
   "source": [
    "## Questão 3\n",
    "\n",
    "Quantos usuários únicos há no dataset? Responda como um único escalar."
   ]
  },
  {
   "cell_type": "code",
   "execution_count": 31,
   "metadata": {
    "pycharm": {
     "is_executing": false
    }
   },
   "outputs": [
    {
     "data": {
      "text/plain": "5891"
     },
     "metadata": {},
     "output_type": "execute_result",
     "execution_count": 31
    }
   ],
   "source": [
    "def q3():\n",
    "    return int(black_friday.nunique().User_ID)\n",
    "\n",
    "q3()\n"
   ]
  },
  {
   "cell_type": "markdown",
   "metadata": {},
   "source": [
    "## Questão 4\n",
    "\n",
    "Quantos tipos de dados diferentes existem no dataset? Responda como um único escalar."
   ]
  },
  {
   "cell_type": "code",
   "execution_count": 41,
   "metadata": {
    "pycharm": {
     "is_executing": false
    }
   },
   "outputs": [
    {
     "data": {
      "text/plain": "3"
     },
     "metadata": {},
     "output_type": "execute_result",
     "execution_count": 41
    }
   ],
   "source": [
    "def q4():\n",
    "    return len(pd.unique(black_friday.dtypes))\n",
    "\n",
    "\n",
    "q4()"
   ]
  },
  {
   "cell_type": "markdown",
   "metadata": {},
   "source": [
    "## Questão 5\n",
    "\n",
    "Qual porcentagem dos registros possui ao menos um valor null (`None`, `ǸaN` etc)? Responda como um único escalar entre 0 e 1."
   ]
  },
  {
   "cell_type": "code",
   "execution_count": 55,
   "metadata": {
    "pycharm": {
     "is_executing": false
    }
   },
   "outputs": [
    {
     "data": {
      "text/plain": "0.16666666666666666"
     },
     "metadata": {},
     "output_type": "execute_result",
     "execution_count": 55
    }
   ],
   "source": [
    "def q5():\n",
    "    is_na = black_friday.isna().sum()\n",
    "    columns = black_friday.shape[1]\n",
    "    return np.count_nonzero(is_na) / columns\n",
    "\n",
    "q5()"
   ]
  },
  {
   "cell_type": "markdown",
   "metadata": {},
   "source": [
    "## Questão 6\n",
    "\n",
    "Quantos valores null existem na variável (coluna) com o maior número de null? Responda como um único escalar."
   ]
  },
  {
   "cell_type": "code",
   "execution_count": 57,
   "metadata": {
    "pycharm": {
     "is_executing": false
    }
   },
   "outputs": [
    {
     "data": {
      "text/plain": "373299"
     },
     "metadata": {},
     "output_type": "execute_result",
     "execution_count": 57
    }
   ],
   "source": [
    "def q6():\n",
    "    is_na = black_friday.isna().sum()\n",
    "    return max(is_na)\n",
    "\n",
    "q6()"
   ]
  },
  {
   "cell_type": "markdown",
   "metadata": {},
   "source": [
    "## Questão 7\n",
    "\n",
    "Qual o valor mais frequente (sem contar nulls) em `Product_Category_3`? Responda como um único escalar."
   ]
  },
  {
   "cell_type": "code",
   "execution_count": 5,
   "metadata": {
    "pycharm": {
     "is_executing": false
    }
   },
   "outputs": [
    {
     "data": {
      "text/plain": "16.0"
     },
     "metadata": {},
     "output_type": "execute_result",
     "execution_count": 5
    }
   ],
   "source": [
    "def q7():\n",
    "    return black_friday.Product_Category_3.mode()[0]\n",
    "\n",
    "q7()\n"
   ]
  },
  {
   "cell_type": "markdown",
   "metadata": {},
   "source": [
    "## Questão 8\n",
    "\n",
    "Qual a nova média da variável (coluna) `Purchase` após sua normalização? Responda como um único escalar."
   ]
  },
  {
   "cell_type": "code",
   "execution_count": 20,
   "metadata": {
    "pycharm": {
     "is_executing": false
    }
   },
   "outputs": [
    {
     "data": {
      "text/plain": "0.3847939036269795"
     },
     "metadata": {},
     "output_type": "execute_result",
     "execution_count": 20
    }
   ],
   "source": [
    "def q8():\n",
    "    purchase = black_friday.Purchase\n",
    "    purchase_norm = (purchase - purchase.min()) \\\n",
    "                    / (purchase.max() - purchase.min())\n",
    "    return float(purchase_norm.mean())\n",
    "\n",
    "q8()"
   ]
  },
  {
   "cell_type": "markdown",
   "metadata": {},
   "source": [
    "## Questão 9\n",
    "\n",
    "Quantas ocorrências entre -1 e 1 inclusive existem da variáel `Purchase` após sua padronização? Responda como um único escalar."
   ]
  },
  {
   "cell_type": "code",
   "execution_count": 30,
   "metadata": {
    "pycharm": {
     "is_executing": false
    }
   },
   "outputs": [
    {
     "data": {
      "text/plain": "537577"
     },
     "metadata": {},
     "output_type": "execute_result",
     "execution_count": 30
    }
   ],
   "source": [
    "def q9():\n",
    "    purchase = black_friday.Purchase\n",
    "    purchase_st = (purchase - purchase.mean()) \\\n",
    "                    / (purchase.max() - purchase.min())\n",
    "    \n",
    "    conditions = (purchase_st >= -1) & (purchase_st <= 1)\n",
    "    return int(purchase_st[conditions].count())\n",
    "    \n",
    "\n",
    "q9()"
   ]
  },
  {
   "cell_type": "markdown",
   "metadata": {},
   "source": [
    "## Questão 10\n",
    "\n",
    "Podemos afirmar que se uma observação é null em `Product_Category_2` ela também o é em `Product_Category_3`? Responda com um bool (`True`, `False`)."
   ]
  },
  {
   "cell_type": "code",
   "execution_count": 13,
   "metadata": {},
   "outputs": [],
   "source": [
    "def q10():\n",
    "    # Retorne aqui o resultado da questão 10.\n",
    "    pass"
   ]
  }
 ],
 "metadata": {
  "kernelspec": {
   "display_name": "Python 3",
   "language": "python",
   "name": "python3"
  },
  "language_info": {
   "codemirror_mode": {
    "name": "ipython",
    "version": 3
   },
   "file_extension": ".py",
   "mimetype": "text/x-python",
   "name": "python",
   "nbconvert_exporter": "python",
   "pygments_lexer": "ipython3",
   "version": "3.7.3"
  },
  "pycharm": {
   "stem_cell": {
    "cell_type": "raw",
    "source": [],
    "metadata": {
     "collapsed": false
    }
   }
  }
 },
 "nbformat": 4,
 "nbformat_minor": 2
}